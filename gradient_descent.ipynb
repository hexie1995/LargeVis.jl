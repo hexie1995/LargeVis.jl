{
 "cells": [
  {
   "cell_type": "code",
   "execution_count": 38,
   "metadata": {},
   "outputs": [],
   "source": [
    "using Distributions\n",
    "using LightGraphs, SimpleWeightedGraphs\n",
    "using GraphPlot\n",
    "using LightGraphs: smallgraph\n",
    "using Flux\n",
    "using LinearAlgebra\n",
    "using ProximalOperators"
   ]
  },
  {
   "cell_type": "code",
   "execution_count": 39,
   "metadata": {},
   "outputs": [
    {
     "data": {
      "text/plain": [
       "edge_probability (generic function with 1 method)"
      ]
     },
     "execution_count": 39,
     "metadata": {},
     "output_type": "execute_result"
    }
   ],
   "source": [
    "f1(x) = 1/(1+exp(x^2))\n",
    "function edge_probability(f1, i::Int, j::Int, coordinates) \n",
    "    yi, yj = coordinates[[i,j], :]\n",
    "    return f1(norm(yi - yj))\n",
    "end"
   ]
  },
  {
   "cell_type": "code",
   "execution_count": 40,
   "metadata": {},
   "outputs": [
    {
     "data": {
      "text/plain": [
       "biased_sample (generic function with 1 method)"
      ]
     },
     "execution_count": 40,
     "metadata": {},
     "output_type": "execute_result"
    }
   ],
   "source": [
    "function biased_sample(n, k, p)\n",
    "    \"\"\"\n",
    "    n is the number of samples to draw\n",
    "    k is the number of catergories, here is just the number of nodes\n",
    "    p is the corresponding probability of k, everything in p sums to 1\n",
    "    \"\"\"\n",
    "    r = 1\n",
    "    a = Vector{Int}()\n",
    "    for i in 1:k\n",
    "        q = rand(Binomial(n,p[i]/r))\n",
    "        x = fill(i,q)\n",
    "        append!(a, x)\n",
    "        n = n - q\n",
    "        r = r - p[i]\n",
    "    end\n",
    "    return a\n",
    "end"
   ]
  },
  {
   "cell_type": "code",
   "execution_count": 41,
   "metadata": {},
   "outputs": [
    {
     "data": {
      "text/plain": [
       "likelihood (generic function with 1 method)"
      ]
     },
     "execution_count": 41,
     "metadata": {},
     "output_type": "execute_result"
    }
   ],
   "source": [
    "function likelihood(coordinates)  \n",
    "    g =  smallgraph(:karate)\n",
    "    A = adjacency_matrix(g)\n",
    "    A =  Matrix(A)\n",
    "    B = -1*(A.-1)\n",
    "    g2 = Graph(B) \n",
    "    \n",
    "    nodes = Vector{Int}()\n",
    "    for n in vertices(g)\n",
    "       append!(nodes,n) \n",
    "    end\n",
    "    \n",
    "    \n",
    "    negsource = Vector{Int}()\n",
    "    negdestin = Vector{Int}()\n",
    "    for e in edges(g2)\n",
    "        u, v = src(e), dst(e)\n",
    "        append!(negsource, u)\n",
    "        append!(negdestin, v)\n",
    "    end\n",
    "    \n",
    "    weight2 = fill(1,ne(g2))\n",
    "    weight2_norm = weight2./sum(weight2)\n",
    "    \n",
    "    \n",
    "    num_negative_edges::Int=10\n",
    "    γ = 0.5\n",
    "    lik = 0\n",
    "\n",
    "    for ed in edges(g)\n",
    "        ei, ej = src(ed), dst(ed)\n",
    "        indi = findall(x->x==ei, nodes)[1]\n",
    "        indj = findall(x->x==ej, nodes)[1]\n",
    "        lik += log(edge_probability(f1, indi, indj, coordinates))\n",
    "        \n",
    "        neg_ind = findall(x->x==ej,negdestin)\n",
    "\n",
    "        num_of_neg_ej = length(neg_ind)\n",
    "        neg_ind_weight = weight2_norm[neg_ind]\n",
    "        neg_ind_weight_norm = neg_ind_weight./(sum(neg_ind_weight)+0.000001)\n",
    "        \n",
    "        for i in 1:num_negative_edges\n",
    "            e = biased_sample(1, num_of_neg_ej,neg_ind_weight_norm)\n",
    "            edge_ind = neg_ind[e]\n",
    "            \n",
    "            indii = findall(x->x==negsource[edge_ind][1], nodes)[1]\n",
    "            indjj = findall(x->x==negdestin[edge_ind][1], nodes)[1]\n",
    "            lik += γ * log(1 - edge_probability(f1, indii, indjj, coordinates))\n",
    "        end\n",
    "    \n",
    "    end\n",
    "    return -lik\n",
    "end"
   ]
  },
  {
   "cell_type": "code",
   "execution_count": 42,
   "metadata": {},
   "outputs": [
    {
     "data": {
      "text/plain": [
       "305.7637841321173"
      ]
     },
     "execution_count": 42,
     "metadata": {},
     "output_type": "execute_result"
    }
   ],
   "source": [
    "g =  smallgraph(:karate) \n",
    "\n",
    "Y = rand(nv(g), 2) # I think julia is faster columnwise. Not sure\n",
    "\n",
    "likelihood(Y)"
   ]
  },
  {
   "cell_type": "code",
   "execution_count": 37,
   "metadata": {},
   "outputs": [
    {
     "ename": "LoadError",
     "evalue": "UndefVarError: gradient not defined",
     "output_type": "error",
     "traceback": [
      "UndefVarError: gradient not defined",
      "",
      "Stacktrace:",
      " [1] top-level scope at In[37]:1",
      " [2] include_string(::Function, ::Module, ::String, ::String) at .\\loading.jl:1091"
     ]
    }
   ],
   "source": [
    "gradient(likelihood, Y)"
   ]
  },
  {
   "cell_type": "code",
   "execution_count": 33,
   "metadata": {},
   "outputs": [
    {
     "ename": "LoadError",
     "evalue": "invalid redefinition of constant GD_setting",
     "output_type": "error",
     "traceback": [
      "invalid redefinition of constant GD_setting",
      "",
      "Stacktrace:",
      " [1] top-level scope at In[33]:1",
      " [2] include_string(::Function, ::Module, ::String, ::String) at .\\loading.jl:1091"
     ]
    }
   ],
   "source": []
  }
 ],
 "metadata": {
  "kernelspec": {
   "display_name": "Julia 1.5.3",
   "language": "julia",
   "name": "julia-1.5"
  },
  "language_info": {
   "file_extension": ".jl",
   "mimetype": "application/julia",
   "name": "julia",
   "version": "1.5.3"
  }
 },
 "nbformat": 4,
 "nbformat_minor": 2
}
